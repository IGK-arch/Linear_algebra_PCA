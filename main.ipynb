{
 "cells": [
  {
   "cell_type": "code",
   "execution_count": 22,
   "metadata": {},
   "outputs": [],
   "source": [
    "# import numpy as np\n",
    "from typing import List\n",
    "from copy import deepcopy\n",
    "import random\n",
    "import math\n",
    "\n",
    "# Matrix\n",
    "class Matrix:\n",
    "    def __init__(self, data: List[List[float]]):\n",
    "        self.data = data\n",
    "        self.nrows = len(data)\n",
    "        self.ncols = len(data[0]) if data else 0\n",
    "\n",
    "    def __getitem__(self, idx):\n",
    "        return self.data[idx]\n",
    "\n",
    "    def __setitem__(self, idx, value):\n",
    "        self.data[idx] = value\n",
    "\n",
    "    def __repr__(self):\n",
    "        return f\"Matrix({self.data})\"\n",
    "    \n",
    "    \n",
    "EPS = 1e-8         \n",
    "\n",
    "def ladder_form(A, eps: float = EPS):\n",
    "    A = [row[:] for row in A]\n",
    "    nrows, ncols = len(A), len(A[0])\n",
    "    r = 0\n",
    "    for c in range(ncols):\n",
    "        if r >= nrows:\n",
    "            break\n",
    "        # поиск строки‑pivot\n",
    "        pivot = next((i for i in range(r, nrows) if abs(A[i][c]) > eps), None)\n",
    "        if pivot is None:\n",
    "            continue\n",
    "        A[r], A[pivot] = A[pivot], A[r] \n",
    "        lv = A[r][c]\n",
    "        A[r] = [v / lv for v in A[r]] \n",
    "        for i in range(nrows): \n",
    "            if i != r:\n",
    "                factor = A[i][c]\n",
    "                A[i] = [iv - factor * rv for iv, rv in zip(A[i], A[r])]\n",
    "        # подчистим мелкие числа\n",
    "        for i in range(nrows):\n",
    "            for j in range(ncols):\n",
    "                if abs(A[i][j]) < eps:\n",
    "                    A[i][j] = 0.0\n",
    "        r += 1\n",
    "    return A\n"
   ]
  },
  {
   "cell_type": "code",
   "execution_count": 23,
   "metadata": {},
   "outputs": [
    {
     "data": {
      "text/plain": [
       "[Matrix([[-0.5], [1]])]"
      ]
     },
     "execution_count": 23,
     "metadata": {},
     "output_type": "execute_result"
    }
   ],
   "source": [
    "def gauss_solver(A_raw, b_raw):\n",
    "    \"\"\"\n",
    "    Вход:\n",
    "    A: матрица коэффициентов (n×n). Используется класс Matrix из предыдущей\n",
    "    лабораторной работы\n",
    "    →\n",
    "    b: вектор правых частей (n×1)\n",
    "    Выход:\n",
    "    list[Matrix]: список базисных векторов решения системы\n",
    "    Raises:\n",
    "    ValueError: если система несовместна\n",
    "    \"\"\"\n",
    "    A = [row[:] for row in A_raw]\n",
    "    b = [row[0] for row in b_raw]\n",
    "\n",
    "    n = len(A)        # количество строк\n",
    "    m = len(A[0])     # количество столбцов\n",
    "\n",
    "    Ab = [A[i] + [b[i]] for i in range(n)]\n",
    "    Ab_lad = ladder_form(Ab)\n",
    "\n",
    "    A_lad = [Ab_lad[i][:-1] for i in range(len(Ab_lad))]\n",
    "    b_lad = [Ab_lad[i][-1] for i in range(len(Ab_lad))]\n",
    "\n",
    "     # Проверка на несовместность системы\n",
    "    for i in range(n):\n",
    "        if all(abs(A_lad[i][j]) < EPS for j in range(n)) and abs(b_lad[i]) > EPS:\n",
    "            raise ValueError(\"Система несовместна\")\n",
    "         \n",
    "\n",
    "    ladder_matrix = Ab_lad.copy()\n",
    "    # Ищем ведущие переменные (pivots) — первые ненулевые элементы в строках\n",
    "    pivots = []\n",
    "    for i, row in enumerate(ladder_matrix):\n",
    "        for j in range(m):  # не включая последний столбец (b)\n",
    "            if abs(row[j]) > EPS:\n",
    "                pivots.append(j)\n",
    "                break  # Переходим к следующей строке после первого ненуля\n",
    "\n",
    "    # Строим частное решение (одно конкретное решение, если оно существует)\n",
    "    x_particular = [0] * m\n",
    "    for i, row in enumerate(ladder_matrix):\n",
    "        for j in range(m):\n",
    "            if abs(row[j]) > EPS:\n",
    "                x_particular[j] = row[-1]  # Последний столбец — значения правой части\n",
    "                break\n",
    "    # Определяем свободные переменные (те, что не являются ведущими)\n",
    "    free_vars = [j for j in range(m) if j not in pivots]\n",
    "    kernel = []  # Список базисных векторов ядра\n",
    "\n",
    "    # Для каждой свободной переменной строим базисный вектор ядра\n",
    "    for free in free_vars:\n",
    "        vec = [0] * m\n",
    "        vec[free] = 1  # Свободной переменной присваиваем 1\n",
    "\n",
    "        # Остальные выражаем через неё из системы (по строкам)\n",
    "        for i in range(len(pivots)):\n",
    "            pivot_col = pivots[i]\n",
    "            vec[pivot_col] = -ladder_matrix[i][free]  # Сдвигаем в другую сторону\n",
    "        kernel.append(vec)\n",
    "\n",
    "    # Возвращаем частное решение как Matrix (вектор-столбец) и базис ядра как список Matrix\n",
    "    # return [Matrix([[x] for x in x_particular])] + [Matrix([[x] for x in v]) for v in kernel]\n",
    "    return [Matrix([[x] for x in v]) for v in kernel]\n",
    "\n",
    "\n",
    "A = [\n",
    "        [2, 1],\n",
    "        [4, 2]\n",
    "    ]\n",
    "\n",
    "b = [\n",
    "    [5],\n",
    "    [10]\n",
    "]\n",
    "\n",
    "\n",
    "gauss_solver(A,b)"
   ]
  },
  {
   "cell_type": "markdown",
   "metadata": {},
   "source": [
    "## Easy 2"
   ]
  },
  {
   "cell_type": "code",
   "execution_count": 24,
   "metadata": {},
   "outputs": [],
   "source": [
    "def center_data(X: 'Matrix') -> 'Matrix':\n",
    "    \"\"\"\n",
    "    Вход: матрица данных X (n×m)\n",
    "    Выход: центрированная матрица X_centered (n×m),\n",
    "           из каждого признака (столбца) вычтено его среднее.\n",
    "    \"\"\"\n",
    "    n, m = X.nrows, X.ncols\n",
    "\n",
    "    means = [sum(X[i][j] for i in range(n)) / n for j in range(m)]\n",
    "\n",
    "    centered_data = [[X[i][j] - means[j] for j in range(m)] for i in range(n)]\n",
    "\n",
    "    return Matrix(centered_data)\n"
   ]
  },
  {
   "cell_type": "markdown",
   "metadata": {},
   "source": [
    "## Easy 3"
   ]
  },
  {
   "cell_type": "code",
   "execution_count": 25,
   "metadata": {},
   "outputs": [],
   "source": [
    "def covariance_matrix(X_centered: 'Matrix') -> 'Matrix':\n",
    "    \"\"\"\n",
    "    Вход: центрированная матрица X_centered (n×m)\n",
    "    Выход: матрица ковариаций C (m×m)\n",
    "    \"\"\"\n",
    "    n = X_centered.nrows\n",
    "    m = X_centered.ncols\n",
    "    cov_data = [[0.0 for _ in range(m)] for _ in range(m)]\n",
    "    \n",
    "    for i in range(m):\n",
    "        for j in range(m):\n",
    "            cov = sum(X_centered.data[k][i] * X_centered.data[k][j] for k in range(n)) / (n - 1)\n",
    "            cov_data[i][j] = cov\n",
    "            \n",
    "    return Matrix(cov_data)\n"
   ]
  },
  {
   "cell_type": "markdown",
   "metadata": {},
   "source": [
    "## Normal 1"
   ]
  },
  {
   "cell_type": "code",
   "execution_count": 26,
   "metadata": {},
   "outputs": [],
   "source": [
    "def determinant(matrix: List[List[float]]) -> float:\n",
    "    \"\"\"Вычисление определителя матрицы\"\"\"\n",
    "    n = len(matrix)\n",
    "    if n == 1:\n",
    "        return matrix[0][0]\n",
    "    if n == 2:\n",
    "        return matrix[0][0]*matrix[1][1] - matrix[0][1]*matrix[1][0]\n",
    "    \n",
    "    det = 0\n",
    "    for j in range(n):\n",
    "        submatrix = [row[:j] + row[j+1:] for row in matrix[1:]]\n",
    "        det += ((-1)**j) * matrix[0][j] * determinant(submatrix)\n",
    "        \n",
    "    return det\n",
    "\n",
    "def subtract_lambda_I(A: List[List[float]], lam: float) -> List[List[float]]:\n",
    "    \"\"\"\n",
    "    Формирует матрицу A - λI, где I — единичная матрица.\n",
    "    \"\"\"\n",
    "    n = len(A)\n",
    "    return [[A[i][j] - (lam if i == j else 0) for j in range(n)] for i in range(n)]\n",
    "\n",
    "def characteristic_polynomial(A: List[List[float]], lam: float) -> float:\n",
    "    \"\"\"\n",
    "    Вычисляет характеристический многочлен: det(A - λI).\n",
    "    \"\"\"\n",
    "    M = subtract_lambda_I(A, lam)\n",
    "    return determinant(M)\n",
    "\n",
    "def gershgorin_bounds(A: List[List[float]]) -> (float, float):\n",
    "    \"\"\"\n",
    "    Оценка границ для собственных значений матрицы A по теореме Гершгорина.\n",
    "    Для каждой строки i оценивается интервал:\n",
    "        [A[i][i] - R_i, A[i][i] + R_i],\n",
    "    где R_i = сумма модулей недиагональных элементов.\n",
    "    Возвращает (нижнюю, верхнюю) границу по всем строкам.\n",
    "    \"\"\"\n",
    "    n = len(A)\n",
    "    lower_bound = float('inf')\n",
    "    upper_bound = float('-inf')\n",
    "    for i in range(n):\n",
    "        row_sum = sum(abs(A[i][j]) for j in range(n) if j != i)\n",
    "        lower_bound = min(lower_bound, A[i][i] - row_sum)\n",
    "        upper_bound = max(upper_bound, A[i][i] + row_sum)\n",
    "    return lower_bound, upper_bound\n"
   ]
  },
  {
   "cell_type": "code",
   "execution_count": 27,
   "metadata": {},
   "outputs": [],
   "source": [
    "def sign_changes_intervals(f, a: float, b: float, num: int = 10000) -> List[tuple]:\n",
    "    \"\"\"\n",
    "    находит отрезки с меняющимся знаком\n",
    "    \"\"\"\n",
    "    dx = (b - a) / num\n",
    "    intervals = []\n",
    "    x_prev = a\n",
    "    f_prev = f(x_prev)\n",
    "    for i in range(1, num + 1):\n",
    "        x_curr = a + i * dx\n",
    "        f_curr = f(x_curr)\n",
    "        if f_prev * f_curr < 0:\n",
    "            intervals.append((x_prev, x_curr))\n",
    "        x_prev, f_prev = x_curr, f_curr\n",
    "    return intervals\n",
    "\n",
    "def bisection(f, a: float, b: float, tol: float) -> float:\n",
    "    \"\"\"\n",
    "    Метод бисекции для нахождения одного корня уравнения f(λ)=0 \n",
    "    \"\"\"\n",
    "    fa, fb = f(a), f(b)\n",
    "    if fa * fb > 0:\n",
    "        return False\n",
    "    \n",
    "    while (b - a) > tol:\n",
    "        c = (a + b) / 2\n",
    "        fc = f(c)\n",
    "        if abs(fc) < tol:\n",
    "            return c\n",
    "        if fa * fc < 0:\n",
    "            b, fb = c, fc\n",
    "        else:\n",
    "            a, fa = c, fc\n",
    "    return (a + b) / 2\n",
    "\n",
    "def find_eigenvalues(A: Matrix, tol: float = 1e-12) -> List[float]:\n",
    "    \"\"\"\n",
    "    Находит собственные значения симметричной матрицы A методом бисекции.\n",
    "    \"\"\"\n",
    "    A = A.data\n",
    "    a, b = gershgorin_bounds(A)\n",
    "    \n",
    "    f = lambda lam: characteristic_polynomial(A, lam)\n",
    "    \n",
    "    intervals = sign_changes_intervals(f, a, b, num=10000)\n",
    "    \n",
    "    eigenvalues = []\n",
    "    for (left, right) in intervals:\n",
    "        root = bisection(f, left, right, tol)\n",
    "        if root is not False:\n",
    "            eigenvalues.append(root)\n",
    "        else:\n",
    "            continue\n",
    "    \n",
    "    return sorted(eigenvalues, reverse=True)\n",
    "\n"
   ]
  },
  {
   "cell_type": "code",
   "execution_count": 28,
   "metadata": {},
   "outputs": [
    {
     "data": {
      "text/plain": [
       "[8.274917217635362, 0.7250827823646367]"
      ]
     },
     "execution_count": 28,
     "metadata": {},
     "output_type": "execute_result"
    }
   ],
   "source": [
    "A = Matrix([\n",
    "        [2, 1,3 ],\n",
    "        [4, 2, 4],\n",
    "        [5, 1, 4]\n",
    "    ])\n",
    "eigenvalues = find_eigenvalues(A,)\n",
    "eigenvalues"
   ]
  },
  {
   "cell_type": "markdown",
   "metadata": {},
   "source": [
    "## Normal 2"
   ]
  },
  {
   "cell_type": "code",
   "execution_count": 29,
   "metadata": {},
   "outputs": [
    {
     "name": "stdout",
     "output_type": "stream",
     "text": [
      "Базис собственного подпространства для λ = 1.0:\n",
      "[-1.0]\n",
      "[1]\n",
      "Базис собственного подпространства для λ = 3.0:\n",
      "[1.0]\n",
      "[1]\n"
     ]
    }
   ],
   "source": [
    "def find_eigenvectors(C: 'Matrix', eigenvalues: List[float])-> List['Matrix']:\n",
    "    \"\"\"\n",
    "    Вход:\n",
    "    C: матрица ковариаций (m×m)\n",
    "    eigenvalues: список собственных значений\n",
    "    Выход: список собственных векторов (каждый вектор- объект Matrix)\n",
    "    \"\"\"\n",
    "    vectors_eigen = []\n",
    "    n = C.ncols\n",
    "    for lam in eigenvalues:\n",
    "        C_mod = [[C[i][j] - (lam if i == j else 0.0) for j in range(n)] for i in range(n)]\n",
    "        kernel = gauss_solver(C_mod, [[0] for _ in range(n)])\n",
    "\n",
    "        vectors_eigen.extend(kernel)     \n",
    "    return vectors_eigen\n",
    "\n",
    "C = Matrix([\n",
    "        [2.0, 1.0],\n",
    "        [1.0, 2.0]\n",
    "    ])\n",
    "\n",
    "eigenvalues = [1.0, 3.0]\n",
    "\n",
    "eigenvectors_basis = find_eigenvectors(C, eigenvalues)\n",
    "for i, basis in enumerate(eigenvectors_basis):\n",
    "    print(f\"Базис собственного подпространства для λ = {eigenvalues[i]}:\")\n",
    "    for vec in basis:\n",
    "        print(vec)"
   ]
  },
  {
   "cell_type": "code",
   "execution_count": 30,
   "metadata": {},
   "outputs": [
    {
     "data": {
      "text/plain": [
       "[[-1.0], [1]]"
      ]
     },
     "execution_count": 30,
     "metadata": {},
     "output_type": "execute_result"
    }
   ],
   "source": [
    "list(Matrix([[-1.0], [1]]))"
   ]
  },
  {
   "cell_type": "markdown",
   "metadata": {},
   "source": [
    "## Normal 3"
   ]
  },
  {
   "cell_type": "code",
   "execution_count": 31,
   "metadata": {},
   "outputs": [
    {
     "data": {
      "text/plain": [
       "0.8888888888888888"
      ]
     },
     "execution_count": 31,
     "metadata": {},
     "output_type": "execute_result"
    }
   ],
   "source": [
    "def explained_variance_ratio(eigenvalues: List[float], k: int)-> float:\n",
    "    \"\"\"\n",
    "    Вход:\n",
    "    eigenvalues: список собственных значений\n",
    "    k: число компонент\n",
    "    Выход: доля объяснённой дисперсии\n",
    "    \"\"\"\n",
    "    eigenvalues = sorted(eigenvalues, reverse=True)\n",
    "    s_k = 0\n",
    "    s_all = 0\n",
    "    \n",
    "    if not eigenvalues:\n",
    "        raise ValueError(\"Список собственных значений пуст.\")\n",
    "    if k <= 0 or k > len(eigenvalues):\n",
    "        raise ValueError(\"k должно быть положительным и не превышать число собственных значений.\")\n",
    "\n",
    "\n",
    "    for i in range(len(eigenvalues)):\n",
    "        if i<k:\n",
    "            s_k += eigenvalues[i]\n",
    "        s_all += eigenvalues[i]\n",
    "        \n",
    "    return s_k / s_all\n",
    "\n",
    "eigenvalues = [5.0, 3.0, 1.0]  \n",
    "\n",
    "explained_variance_ratio(eigenvalues, 2)"
   ]
  },
  {
   "cell_type": "markdown",
   "metadata": {},
   "source": [
    "## HARD 1"
   ]
  },
  {
   "cell_type": "code",
   "execution_count": 32,
   "metadata": {},
   "outputs": [],
   "source": [
    "def matrix_multiply(A: Matrix, B: Matrix) -> Matrix:\n",
    "    \"\"\"\n",
    "    Перемножает две матрицы\n",
    "    \"\"\"\n",
    "    n = A.nrows\n",
    "    m = A.ncols\n",
    "    k = B.ncols\n",
    "    result_data = [[0.0 for _ in range(k)] for _ in range(n)]\n",
    "    for i in range(n):\n",
    "        for j in range(k):\n",
    "            s = 0.0\n",
    "            for l in range(m):\n",
    "                s += A.data[i][l] * B.data[l][j]\n",
    "            result_data[i][j] = s\n",
    "    return Matrix(result_data)\n",
    "\n",
    "\n",
    "def hstack_matrices(cols: List[Matrix]) -> Matrix:\n",
    "    if not cols:\n",
    "        raise ValueError(\"Нет матриц для объединения\")\n",
    "\n",
    "    n_rows = cols[0].nrows\n",
    "    data = [[col[i][0] for col in cols] for i in range(n_rows)]\n",
    "    return Matrix(data)\n"
   ]
  },
  {
   "cell_type": "code",
   "execution_count": 33,
   "metadata": {},
   "outputs": [],
   "source": [
    "from typing import List, Tuple\n",
    "\n",
    "def pca(X: 'Matrix', k: int)-> Tuple['Matrix', float]:\n",
    "    \"\"\"\n",
    "    Вход:\n",
    "    X: матрица данных (n×m)\n",
    "    k: число главных компонент\n",
    "    Выход:\n",
    "    X_proj: проекция данных (n×k)\n",
    "    : доля объяснённой дисперсии\n",
    "    \"\"\"\n",
    "    X_centered = center_data(X)\n",
    "    C = covariance_matrix(X_centered)  \n",
    "    \n",
    "    eigenvals = find_eigenvalues(C) \n",
    "    eigenvecs = list(find_eigenvectors(C, eigenvals))\n",
    "    principal_vectors = eigenvecs[:k]\n",
    "    W = hstack_matrices(principal_vectors)\n",
    "    X_projection = matrix_multiply(X_centered, W)\n",
    "    \n",
    "    explained_var = explained_variance_ratio(eigenvals, k)\n",
    "    \n",
    "    return X_projection, explained_var\n",
    "    \n",
    "    "
   ]
  },
  {
   "cell_type": "code",
   "execution_count": 34,
   "metadata": {},
   "outputs": [
    {
     "name": "stdout",
     "output_type": "stream",
     "text": [
      "Matrix([[-5.309401076761123, -0.6905989232616239], [1.4226497308109773, 2.5773502692547035], [3.8867513459501466, -1.8867513459930785]])\n",
      "1.000000000000331\n"
     ]
    }
   ],
   "source": [
    "X_data = [\n",
    "    [2, 1, 3],\n",
    "    [4, 2, 4],\n",
    "    [5, 1, 4]\n",
    "]\n",
    "X = Matrix(X_data)\n",
    "\n",
    "X_proj, var_ratio = pca(X, k=2)\n",
    "print(X_proj)          \n",
    "print(var_ratio)      \n"
   ]
  },
  {
   "cell_type": "markdown",
   "metadata": {},
   "source": [
    "## HARD 2"
   ]
  },
  {
   "cell_type": "code",
   "execution_count": 35,
   "metadata": {},
   "outputs": [
    {
     "name": "stderr",
     "output_type": "stream",
     "text": [
      "C:\\Users\\admin\\AppData\\Local\\Temp\\ipykernel_8408\\1316003586.py:19: UserWarning: FigureCanvasAgg is non-interactive, and thus cannot be shown\n",
      "  fig.show()\n"
     ]
    },
    {
     "data": {
      "image/png": "[encoded data removed]",
      "text/plain": [
       "<Figure size 640x480 with 1 Axes>"
      ]
     },
     "metadata": {},
     "output_type": "display_data"
    }
   ],
   "source": [
    "from matplotlib.figure import Figure\n",
    "import matplotlib.pyplot as plt\n",
    "\n",
    "def plot_pca_projection(X_proj: 'Matrix') -> Figure:\n",
    "    x = [row[0] for row in X_proj.data]   \n",
    "    y = [row[1] for row in X_proj.data]  \n",
    "\n",
    "    fig, ax = plt.subplots()\n",
    "    ax.scatter(x, y, s=40)              \n",
    "    ax.set_xlabel(\"PC1\")\n",
    "    ax.set_ylabel(\"PC2\")\n",
    "    ax.set_title(\"PCA projection\")\n",
    "    ax.grid(True, ls=\"--\", lw=0.3)\n",
    "    fig.tight_layout()\n",
    "\n",
    "    return fig\n",
    "\n",
    "fig = plot_pca_projection(X_proj)\n",
    "fig.show()            "
   ]
  },
  {
   "cell_type": "markdown",
   "metadata": {},
   "source": [
    "## HARD 3"
   ]
  },
  {
   "cell_type": "code",
   "execution_count": 36,
   "metadata": {},
   "outputs": [
    {
     "name": "stdout",
     "output_type": "stream",
     "text": [
      "MSE = 0.025000000000000036\n"
     ]
    }
   ],
   "source": [
    "def reconstruction_error(X_orig: 'Matrix', X_recon: 'Matrix') -> float:\n",
    "    \"\"\"\n",
    "    Вход:\n",
    "    X_orig: исходные данные (n×m)\n",
    "    X_recon: восстановленные данные (n×m)\n",
    "    Выход: среднеквадратическая ошибка MSE\n",
    "    \"\"\"\n",
    "\n",
    "    n, m = X_orig.nrows, X_orig.ncols\n",
    "    if n == 0 or m == 0:\n",
    "        raise ValueError(\"Матрица пустая\")\n",
    "\n",
    "    sum = 0.0\n",
    "    for i in range(n):\n",
    "        for j in range(m):\n",
    "            diff = X_orig[i][j] - X_recon[i][j]\n",
    "            sum += diff * diff\n",
    "\n",
    "    return sum / (n * m)\n",
    "\n",
    "\n",
    "X_o = Matrix([[1, 2], [3, 4]])\n",
    "X_r = Matrix([[0.9, 2.1], [3.2, 3.8]])\n",
    "mse  = reconstruction_error(X_o, X_r)\n",
    "print(\"MSE =\", mse)            \n"
   ]
  },
  {
   "cell_type": "markdown",
   "metadata": {},
   "source": [
    "## Expert 1"
   ]
  },
  {
   "cell_type": "code",
   "execution_count": 37,
   "metadata": {},
   "outputs": [
    {
     "name": "stdout",
     "output_type": "stream",
     "text": [
      "[2.654700538379078, 0.3452994616200527, -9.933367313883684e-13]\n",
      "k выбрано автоматически: 2\n",
      "Доля объяснённой дисперсии: 1.000000000000331\n"
     ]
    }
   ],
   "source": [
    "def auto_select_k(eigenvalues: List[float], threshold: float = 0.95) -> int:\n",
    "    \"\"\"\n",
    "    Вход:\n",
    "    eigenvalues: список собственных значений\n",
    "    threshold: порог объяснённой дисперсии\n",
    "    Выход: оптимальное число главных компонент k\n",
    "    \"\"\"\n",
    "\n",
    "    eigvals = sorted(eigenvalues, reverse=True)\n",
    "    total = sum(eigvals)\n",
    "    running = 0.0\n",
    "\n",
    "    for idx, val in enumerate(eigvals, start=1): \n",
    "        running += val\n",
    "        if running / total >= threshold:\n",
    "            return idx\n",
    "\n",
    "    return len(eigvals)  \n",
    "\n",
    "def pca_auto_k(X: 'Matrix', k: None, threshold: float = 0.95) -> Tuple['Matrix', float]:\n",
    "    \"\"\"\n",
    "    Если k не указано, число главных компонент выбирается так, чтобы доля\n",
    "    объяснённой дисперсии была ≥ threshold.\n",
    "    \"\"\"\n",
    "    X_centered = center_data(X)\n",
    "    C = covariance_matrix(X_centered)\n",
    "\n",
    "    eigenvals = find_eigenvalues(C)\n",
    "    eigenvecs = find_eigenvectors(C, eigenvals) \n",
    "\n",
    "    if k is None:\n",
    "        k = auto_select_k(eigenvals, threshold)\n",
    "    print(eigenvals)\n",
    "    if k <= 0 or k > len(eigenvals):\n",
    "        raise ValueError(f\"Некорректное k = {k}\")\n",
    "\n",
    "    eigenpairs = sorted(zip(eigenvals, eigenvecs), key=lambda p: p[0], reverse=True)\n",
    "    W = hstack_matrices([vec for _, vec in eigenpairs[:k]])  # матрица весов (m×k)\n",
    "\n",
    "    X_proj = matrix_multiply(X_centered, W)\n",
    "\n",
    "    var_ratio = explained_variance_ratio(eigenvals, k)\n",
    "\n",
    "    return X_proj, var_ratio\n",
    "\n",
    "\n",
    "X_proj, var_ratio = pca_auto_k(X, k=None, threshold=0.97)\n",
    "print(\"k выбрано автоматически:\", X_proj.ncols)\n",
    "print(\"Доля объяснённой дисперсии:\", var_ratio)\n"
   ]
  },
  {
   "cell_type": "markdown",
   "metadata": {},
   "source": [
    "## EXPERT 2"
   ]
  },
  {
   "cell_type": "code",
   "execution_count": 38,
   "metadata": {},
   "outputs": [
    {
     "name": "stdout",
     "output_type": "stream",
     "text": [
      "Матрица после замены NaN:\n",
      "Matrix([[2.0, 1.0, 4.0], [4.0, 2.0, 4.0], [5.0, 1.5, 4.0]])\n"
     ]
    }
   ],
   "source": [
    "import math\n",
    "\n",
    "def is_nan(x: float) -> bool:\n",
    "    return math.isnan(x)\n",
    "\n",
    "def handle_missing_values(X: 'Matrix') -> 'Matrix':\n",
    "    \"\"\"\n",
    "    Вход: матрица данных X (n×m) с возможными NaN\n",
    "    Выход: матрица данных X_filled (n×m) без NaN\n",
    "    \"\"\"\n",
    "    X_filled = deepcopy(X)\n",
    "    nrows, ncols = X.nrows, X.ncols\n",
    "\n",
    "    for j in range(ncols):\n",
    "        col_values = []\n",
    "        for i in range(nrows):\n",
    "            val = X[i][j]\n",
    "            if not is_nan(val):\n",
    "                col_values.append(val)\n",
    "\n",
    "        if col_values:\n",
    "            col_mean = sum(col_values) / len(col_values)\n",
    "        else:\n",
    "            col_mean = 0.0  \n",
    "\n",
    "        for i in range(nrows):\n",
    "            if is_nan(X[i][j]):\n",
    "                X_filled[i][j] = col_mean\n",
    "\n",
    "    return X_filled\n",
    "\n",
    "X_data = [\n",
    "    [2.0, 1.0, float('nan')],\n",
    "    [4.0, 2.0, 4.0],\n",
    "    [5.0, float('nan'), 4.0]\n",
    "]\n",
    "\n",
    "X = Matrix(X_data)\n",
    "X_filled = handle_missing_values(X)\n",
    "\n",
    "print(\"Матрица после замены NaN:\")\n",
    "print(X_filled)\n"
   ]
  },
  {
   "cell_type": "markdown",
   "metadata": {},
   "source": [
    "## Expert 3"
   ]
  },
  {
   "cell_type": "code",
   "execution_count": 39,
   "metadata": {},
   "outputs": [],
   "source": [
    "def mean(values):\n",
    "    return sum(values) / len(values)\n",
    "\n",
    "def stddev(values, mu=None):\n",
    "    if mu is None:\n",
    "        mu = mean(values)\n",
    "    return math.sqrt(sum((x - mu)**2 for x in values) / len(values))\n",
    "\n",
    "def add_noise(X: 'Matrix', noise_level: float) -> 'Matrix':\n",
    "    X_noisy = deepcopy(X)\n",
    "    nrows, ncols = X.nrows, X.ncols\n",
    "\n",
    "    # Вычисляем среднее и стандартное отклонение по каждому столбцу\n",
    "    for j in range(ncols):\n",
    "        col = [X[i][j] for i in range(nrows)]\n",
    "        mu = mean(col)\n",
    "        sigma = stddev(col, mu)\n",
    "        noise_std = sigma * noise_level\n",
    "\n",
    "        for i in range(nrows):\n",
    "            noise = random.gauss(0, noise_std)\n",
    "            X_noisy[i][j] += noise\n",
    "\n",
    "    return X_noisy\n",
    "\n",
    "def add_noise_and_analys(X: 'Matrix', ):\n",
    "    print(\"PCA до добавления шума\")\n",
    "    X_proj_before, var_ratio_before = pca(X, k=2)\n",
    "    print(\"Объяснённая дисперсия (до):\", var_ratio_before)\n",
    "\n",
    "    for noise_level in [0.1, 0.2, 0.5]:\n",
    "        X_noisy = add_noise(X, noise_level)\n",
    "\n",
    "        print(\"PCA после добавления шума c noise_level = \", noise_level)\n",
    "        X_proj_after, var_ratio_after = pca(X_noisy, k=2)\n",
    "        print(\"Объяснённая дисперсия (после):\", var_ratio_after)\n",
    "        # Анализ:\n",
    "        diff = var_ratio_before- var_ratio_after\n",
    "        print(\"Изменения в доле объяснённой дисперсии по компонентам:\", diff)\n",
    "        print()\n",
    "        \n",
    "    print(f\"Добавление шумов всех уровней изменило структуру данных\")\n",
    "    print(\"PCA оказался устойчив к небольшому шуму.\")\n",
    "    \n",
    "    print()"
   ]
  },
  {
   "cell_type": "code",
   "execution_count": 40,
   "metadata": {},
   "outputs": [
    {
     "name": "stdout",
     "output_type": "stream",
     "text": [
      "PCA до добавления шума\n",
      "Объяснённая дисперсия (до): 0.9999879248410352\n",
      "PCA после добавления шума c noise_level =  0.1\n",
      "Объяснённая дисперсия (после): 0.9934970489662557\n",
      "Изменения в доле объяснённой дисперсии по компонентам: 0.006490875874779478\n",
      "\n",
      "PCA после добавления шума c noise_level =  0.2\n",
      "Объяснённая дисперсия (после): 0.9908401486407683\n",
      "Изменения в доле объяснённой дисперсии по компонентам: 0.009147776200266855\n",
      "\n",
      "PCA после добавления шума c noise_level =  0.5\n",
      "Объяснённая дисперсия (после): 0.9738586171955448\n",
      "Изменения в доле объяснённой дисперсии по компонентам: 0.026129307645490374\n",
      "\n",
      "Добавление шумов всех уровней изменило структуру данных\n",
      "PCA оказался устойчив к небольшому шуму.\n",
      "\n"
     ]
    }
   ],
   "source": [
    "X_data = Matrix([\n",
    "    [2.5, 3.0, 2.8, 3.2, 3.1],\n",
    "    [3.0, 3.5, 3.2, 3.8, 3.6],\n",
    "    [2.8, 3.2, 3.0, 3.4, 3.3],\n",
    "    [3.2, 3.8, 3.5, 4.0, 3.9],\n",
    "    [2.9, 3.4, 3.1, 3.6, 3.5]\n",
    "])\n",
    "\n",
    "add_noise_and_analys(X_data)\n",
    "# X_centered = center_data(X_data)\n",
    "# # C = covariance_matrix(X_centered).data\n",
    "\n",
    "# eigenvalues = find_eigenvalues(X_centered)\n",
    "# eigenvalues"
   ]
  },
  {
   "cell_type": "markdown",
   "metadata": {},
   "source": [
    "## Expert 4"
   ]
  },
  {
   "cell_type": "code",
   "execution_count": 41,
   "metadata": {},
   "outputs": [],
   "source": [
    "import csv\n",
    "\n",
    "def load_dataset_to_matrix(filename: str) -> Matrix:\n",
    "    data = []\n",
    "    with open(filename, newline='') as csvfile:\n",
    "        csvreader = csv.reader(csvfile)\n",
    "        for row in csvreader:\n",
    "            try:\n",
    "                data.append([float(value) for value in row])\n",
    "            except:\n",
    "                continue\n",
    "\n",
    "    return Matrix(data)\n",
    "\n",
    "dataset = \"diabetes.csv\"  \n",
    "dataset_matrix = load_dataset_to_matrix(dataset)\n"
   ]
  },
  {
   "cell_type": "code",
   "execution_count": null,
   "metadata": {},
   "outputs": [],
   "source": [
    "def apply_pca_to_dataset(dataset_name: str, k: int)-> Tuple['Matrix', float]:\n",
    "    \"\"\"\n",
    "    Вход:\n",
    "    dataset_name: название датасета\n",
    "    k: число главных компонент\n",
    "    Выход: кортеж (проекция данных, качество модели)\n",
    "    \"\"\"\n",
    "    dataset_matrix = load_dataset_to_matrix(dataset_name)\n",
    "        \n",
    "    X, var_ratio = pca(dataset_matrix, k=k)\n",
    "    return tuple(X, var_ratio)\n",
    "\n",
    "a, b = apply_pca_to_dataset(\"diabetes.csv\", 2)\n",
    "print(\"Объяснённая дисперсия:\", b)\n"
   ]
  }
 ],
 "metadata": {
  "kernelspec": {
   "display_name": "Python 3",
   "language": "python",
   "name": "python3"
  },
  "language_info": {
   "codemirror_mode": {
    "name": "ipython",
    "version": 3
   },
   "file_extension": ".py",
   "mimetype": "text/x-python",
   "name": "python",
   "nbconvert_exporter": "python",
   "pygments_lexer": "ipython3",
   "version": "3.12.6"
  }
 },
 "nbformat": 4,
 "nbformat_minor": 2
}
